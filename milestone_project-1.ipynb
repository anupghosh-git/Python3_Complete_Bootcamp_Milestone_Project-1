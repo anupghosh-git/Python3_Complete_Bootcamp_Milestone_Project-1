{
 "cells": [
  {
   "cell_type": "markdown",
   "metadata": {},
   "source": [
    "# Milestone Project 1: Tic Tac Toe\n"
   ]
  },
  {
   "cell_type": "markdown",
   "metadata": {},
   "source": [
    "### Step : 01\n",
    "- Writing game_display function"
   ]
  },
  {
   "cell_type": "code",
   "execution_count": 5,
   "metadata": {},
   "outputs": [],
   "source": [
    "from IPython.display import clear_output\n",
    "def game_display(board):\n",
    "    \"\"\"\n",
    "    Output:  = (Player1 marker, Player2 marker)\n",
    "    \"\"\"\n",
    "\n",
    "    clear_output()\n",
    "    print(board[7]+'|' + board[8] +'|' + board[9])\n",
    "    print('-----')\n",
    "    print(board[4]+'|' + board[5] +'|' + board[6])\n",
    "    print('-----')\n",
    "    print(board[1]+'|' + board[2] +'|' + board[3])\n",
    "    "
   ]
  },
  {
   "cell_type": "code",
   "execution_count": 6,
   "metadata": {},
   "outputs": [],
   "source": [
    "board = [' ']*10"
   ]
  },
  {
   "cell_type": "code",
   "execution_count": 7,
   "metadata": {},
   "outputs": [
    {
     "name": "stdout",
     "output_type": "stream",
     "text": [
      " | | \n",
      "-----\n",
      " | | \n",
      "-----\n",
      " | | \n"
     ]
    }
   ],
   "source": [
    "game_display(board)"
   ]
  },
  {
   "cell_type": "markdown",
   "metadata": {},
   "source": [
    "### Step: 02\n",
    "- Write a function that players marker choice"
   ]
  },
  {
   "cell_type": "code",
   "execution_count": 8,
   "metadata": {},
   "outputs": [],
   "source": [
    "def game_player_input():\n",
    "    marker  = ''\n",
    "\n",
    "    while marker != 'X' and marker != 'O':\n",
    "        marker = input('Player 1, choose X or O: ').upper()\n",
    "    \n",
    "    player1 = marker\n",
    "\n",
    "    if player1 == 'X':\n",
    "        return ('X','O')\n",
    "    else:\n",
    "        return ('O','X')"
   ]
  },
  {
   "cell_type": "code",
   "execution_count": 9,
   "metadata": {},
   "outputs": [],
   "source": [
    "# Test step 2\n",
    "player1_marker, player2_marker = game_player_input()"
   ]
  },
  {
   "cell_type": "code",
   "execution_count": 10,
   "metadata": {},
   "outputs": [
    {
     "data": {
      "text/plain": [
       "'O'"
      ]
     },
     "execution_count": 10,
     "metadata": {},
     "output_type": "execute_result"
    }
   ],
   "source": [
    "player1_marker"
   ]
  },
  {
   "cell_type": "code",
   "execution_count": 11,
   "metadata": {},
   "outputs": [
    {
     "data": {
      "text/plain": [
       "'X'"
      ]
     },
     "execution_count": 11,
     "metadata": {},
     "output_type": "execute_result"
    }
   ],
   "source": [
    "player2_marker"
   ]
  },
  {
   "cell_type": "markdown",
   "metadata": {},
   "source": [
    "### Step 3:\n",
    "- Writing function for to place marker for two player on the board"
   ]
  },
  {
   "cell_type": "code",
   "execution_count": 12,
   "metadata": {},
   "outputs": [],
   "source": [
    "def game_place_marker(board, marker, position):\n",
    "    \n",
    "    board[position] = marker"
   ]
  },
  {
   "cell_type": "code",
   "execution_count": 13,
   "metadata": {},
   "outputs": [
    {
     "data": {
      "text/plain": [
       "[' ', ' ', ' ', ' ', ' ', ' ', ' ', ' ', ' ', ' ']"
      ]
     },
     "execution_count": 13,
     "metadata": {},
     "output_type": "execute_result"
    }
   ],
   "source": [
    "# test step 3\n",
    "board"
   ]
  },
  {
   "cell_type": "code",
   "execution_count": 14,
   "metadata": {},
   "outputs": [],
   "source": [
    "game_place_marker(board,'A',8)"
   ]
  },
  {
   "cell_type": "code",
   "execution_count": 15,
   "metadata": {},
   "outputs": [
    {
     "data": {
      "text/plain": [
       "[' ', ' ', ' ', ' ', ' ', ' ', ' ', ' ', 'A', ' ']"
      ]
     },
     "execution_count": 15,
     "metadata": {},
     "output_type": "execute_result"
    }
   ],
   "source": [
    "board"
   ]
  },
  {
   "cell_type": "code",
   "execution_count": 16,
   "metadata": {},
   "outputs": [
    {
     "name": "stdout",
     "output_type": "stream",
     "text": [
      " |A| \n",
      "-----\n",
      " | | \n",
      "-----\n",
      " | | \n"
     ]
    }
   ],
   "source": [
    "game_display(board)"
   ]
  },
  {
   "cell_type": "markdown",
   "metadata": {},
   "source": [
    "### Step 4:\n",
    "- Writing a function to check win\n"
   ]
  },
  {
   "cell_type": "code",
   "execution_count": 20,
   "metadata": {},
   "outputs": [],
   "source": [
    "def game_win_check(board, mark):\n",
    "\n",
    "    return ((board[1] == board[2] == board[3] == mark) or # bottom row\n",
    "    (board[4] == board[5] == board[6] == mark) or # middle row\n",
    "    (board[7] == board[8] == board[9] == mark) or # top row\n",
    "    (board[1] == board[4] == board[7] == mark) or # left column\n",
    "    (board[2] == board[5] == board[8] == mark) or # middle column\n",
    "    (board[3] == board[6] == board[9] == mark) or # right column\n",
    "    (board[1] == board[5] == board[9] == mark) or # diagonal 1\n",
    "    (board[3] == board[5] == board[7] == mark)) # diagonal 2\n",
    "    "
   ]
  },
  {
   "cell_type": "code",
   "execution_count": 21,
   "metadata": {},
   "outputs": [
    {
     "data": {
      "text/plain": [
       "False"
      ]
     },
     "execution_count": 21,
     "metadata": {},
     "output_type": "execute_result"
    }
   ],
   "source": [
    "#test step 4\n",
    "game_win_check(board, \"X\")"
   ]
  },
  {
   "cell_type": "markdown",
   "metadata": {},
   "source": [
    "### Step 5:\n",
    "- Writing a function for randomly set that which player will play first"
   ]
  },
  {
   "cell_type": "code",
   "execution_count": 22,
   "metadata": {},
   "outputs": [],
   "source": [
    "import random\n",
    "def game_play_first():\n",
    "\n",
    "    flip = random.randint(0,1)\n",
    "    if flip == 0:\n",
    "        return 'Player 1'\n",
    "    else:\n",
    "        return 'Player 2'"
   ]
  },
  {
   "cell_type": "markdown",
   "metadata": {},
   "source": [
    "### Step: 6\n",
    "- Writing a function is there free space availabe on the board"
   ]
  },
  {
   "cell_type": "code",
   "execution_count": 23,
   "metadata": {},
   "outputs": [],
   "source": [
    "def game_space_check(board,position):\n",
    "    return board[position] == ' '"
   ]
  },
  {
   "cell_type": "markdown",
   "metadata": {},
   "source": [
    "### Step: 7\n",
    "- Writing a function to wheather the board is full or not"
   ]
  },
  {
   "cell_type": "code",
   "execution_count": 24,
   "metadata": {},
   "outputs": [],
   "source": [
    "def game_full_board_check(board):\n",
    "    for i in range(1,10):\n",
    "        if game_space_check(board,i):\n",
    "            return False\n",
    "    return True"
   ]
  },
  {
   "cell_type": "markdown",
   "metadata": {},
   "source": [
    "### Step: 8\n",
    "- Writing a function to asks player's next position, thats mean player choice"
   ]
  },
  {
   "cell_type": "code",
   "execution_count": 25,
   "metadata": {},
   "outputs": [],
   "source": [
    "def game_player_choice(board):\n",
    "\n",
    "    position_choice = 10\n",
    "\n",
    "    while position_choice not in [1,2,3,4,5,6,7,8,9] or not game_space_check(board, position_choice):\n",
    "        position_choice = int(input('Choose a position(1-9): '))\n",
    "\n",
    "    return position_choice  "
   ]
  },
  {
   "cell_type": "markdown",
   "metadata": {},
   "source": [
    "### Step: 9\n",
    "- Writing a function to ask player to play again or not"
   ]
  },
  {
   "cell_type": "code",
   "execution_count": 26,
   "metadata": {},
   "outputs": [],
   "source": [
    "def game_replay():\n",
    "    choice = input('Play again? Please enter Yes or No: ')\n",
    "\n",
    "    return choice == 'Yes'"
   ]
  },
  {
   "cell_type": "code",
   "execution_count": 27,
   "metadata": {},
   "outputs": [
    {
     "name": "stdout",
     "output_type": "stream",
     "text": [
      "O|X|O\n",
      "-----\n",
      "O|X|X\n",
      "-----\n",
      "X|O|X\n",
      "The Game is Tie\n"
     ]
    }
   ],
   "source": [
    "print(\"*****|Welcome to TIC TAC TOE Game|*****\")\n",
    "\n",
    "while True:\n",
    "\n",
    "\n",
    "    the_board = [' ']*10\n",
    "    player1_marker,player2_marker = game_player_input()\n",
    "\n",
    "    turn = game_play_first()\n",
    "    print(turn + 'will go first')\n",
    "\n",
    "    play_game = input('Ready to play? Y or N').upper()\n",
    "    if play_game == 'Y':\n",
    "        game_on = True\n",
    "    else:\n",
    "        game_on = False\n",
    "    \n",
    "    #Play Game\n",
    "\n",
    "    while game_on:\n",
    "        if turn == 'Player 1':\n",
    "            ## Player 1 turn\n",
    "            # show the board\n",
    "            game_display(the_board)\n",
    "            # Choose a position\n",
    "            position = game_player_choice(the_board)\n",
    "            # place the marker on the position\n",
    "            game_place_marker(the_board,player1_marker,position)\n",
    "            # Check if the player won\n",
    "            if game_win_check(the_board,player1_marker):\n",
    "                game_display(the_board)\n",
    "                print('Player 1 has Won the Game!')\n",
    "                game_on = False\n",
    "            # or check if there is a tie\n",
    "            else:\n",
    "                if game_full_board_check(the_board):\n",
    "                    game_display(the_board)\n",
    "                    print('The Game is Tie')\n",
    "                    game_on  = False\n",
    "                else:\n",
    "                    turn = 'Player 2'\n",
    "           \n",
    "\n",
    "            # No tie and no win then next players turn\n",
    "\n",
    "\n",
    "        else:\n",
    "        ## Player 2 turn\n",
    "\n",
    "        # show the board\n",
    "            game_display(the_board)\n",
    "            # Choose a position\n",
    "            position = game_player_choice(the_board)\n",
    "            # place the marker on the position\n",
    "            game_place_marker(the_board,player2_marker,position)\n",
    "            # Check if the player won\n",
    "            if game_win_check(the_board,player2_marker):\n",
    "                game_display(the_board)\n",
    "                print('Player 2 has Won the Game!')\n",
    "                game_on = False\n",
    "            # or check if there is a tie\n",
    "            else:\n",
    "                if game_full_board_check(the_board):\n",
    "                    game_display(the_board)\n",
    "                    print('The Game is Tie')\n",
    "                    game_on  = False\n",
    "                else:\n",
    "                    turn = 'Player 1'\n",
    "           \n",
    "\n",
    "            # No tie and no win then next players turn\n",
    "\n",
    "    if not game_replay():\n",
    "        break"
   ]
  },
  {
   "cell_type": "code",
   "execution_count": null,
   "metadata": {},
   "outputs": [],
   "source": []
  }
 ],
 "metadata": {
  "kernelspec": {
   "display_name": "Python 3.9.7 ('base')",
   "language": "python",
   "name": "python3"
  },
  "language_info": {
   "codemirror_mode": {
    "name": "ipython",
    "version": 3
   },
   "file_extension": ".py",
   "mimetype": "text/x-python",
   "name": "python",
   "nbconvert_exporter": "python",
   "pygments_lexer": "ipython3",
   "version": "3.9.7"
  },
  "orig_nbformat": 4,
  "vscode": {
   "interpreter": {
    "hash": "b3d12a30c639c3a494e062d6c4cc70e232cb1c584d6a6e220e40135ff73d5b15"
   }
  }
 },
 "nbformat": 4,
 "nbformat_minor": 2
}
